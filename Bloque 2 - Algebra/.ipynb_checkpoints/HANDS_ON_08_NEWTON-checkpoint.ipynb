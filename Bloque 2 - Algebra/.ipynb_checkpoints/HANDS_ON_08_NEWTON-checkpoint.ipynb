{
 "cells": [
  {
   "cell_type": "markdown",
   "id": "f0c58365-9dbf-4ec1-9c64-d999c0762c17",
   "metadata": {},
   "source": [
    "## Método de bisección\n",
    "\n",
    "El *método de bisección* es un método elemental para determinar las raíces de una ecuación $f(x) = 0$, donde se requiere que $f: [a, b] \\subset \\mathbb R \\rightarrow \\mathbb R$ sea una función continua.b\n",
    "\n",
    "Dados $a$ y $b$ tales que $f(a) f(b) < 0$, el teorema de Bolzano garantiza que existe al menos una raíz de la función en $[a,b]$. De esta forma, el método de bisección consiste en dividir el intervalo $[a,b]$ en dos partes iguales: $[a, c]$ y $[c, b]$, siendo $c$ el punto medio del intervalo. Al calcular $f(c)$ se observa lo siguiente:\n",
    "\n",
    "* o bien $f(a) f(c) < 0$ en cuyo caso $f$ tiene al menos una raíz en $[a, c]$,\n",
    "* o bien $f(c) f(b) < 0$ en cuyo caso $f$ tiene al menos una raíz en $[c, b]$,\n",
    "* o bien $f(c) = 0$ y por lo tanto $c$ es una raíz de $f$.\n",
    "\n",
    "En el tercer caso (muy poco frecuente en aritmética finita) el proceso de búsqueda habrá terminado al haberse encontrado una raíz. En los dos primeros casos, el proceso puede repetirse tomando ahora como nuevo intervalo el subintervalo $[a,c]$ (en el primer caso) o el subintervalo $[c,b]$ (en el segundo). Así (descartando el improbable tercer caso), el intervalo se dividirá repetidamente, reteniendo para la siguiente etapa el subintervalo que conserve el cambio de signo. De esta forma, se tiene un proceso iterativo que construye una sucesión de intervalos encajados\n",
    "\n",
    "$$ (a_0, b_0) \\supset (a_1, b_1) \\supset \\ldots \\supset (a_k, b_k) \\supset \\ldots $$\n",
    "\n",
    "donde cada intervalo contiene una raíz y la longitud de cada intervalo es la mitad del anterior. El proceso termina una vez la amplitud del intervalo es lo suficientemente pequeña como para satisfacer una cierta precisión dada, $\\varepsilon_x$. \n",
    "\n",
    "A la hora de implementar el método, es conveniente realizar un test inicial para verificar el cambio de signo de la función dentro del intervalo, asegurando por tanto que este contiene una raíz de la función. Por otro lado, suele añadirse un segundo test de convergencia sobre el residuo de la función, en cuyo caso se detendrá el proceso iterativo siempre que el residuo sea lo suficientemente pequeño, es decir, $|f(c)| < \\varepsilon_f$, con $\\varepsilon_f$ una tolerancia dada.\n",
    "\n",
    "A continuación se muestra un ejemplo de implementación del algoritmo en Python 3.8.10 (al que deberán añadirse comentarios explicando los argumentos de entrada de la función). Obsérvese que en el código se compara el signo de $f(a)$ y $f(b)$, en lugar de tomar el signo de $f(a) f(b)$, puesto que el primero únicamente necesita comparar dos bits."
   ]
  },
  {
   "cell_type": "code",
   "execution_count": 1,
   "id": "bc115a96-8bc5-4de2-b846-227ed5f0e359",
   "metadata": {},
   "outputs": [],
   "source": [
    "import numpy as np\n",
    "\n",
    "def biseccion(f, a, b, tol, nitmax):\n",
    "\n",
    "    # Comprobamos si existe una raiz en el intervalo [a,b]\n",
    "    if np.sign(f(a)) == np.sign(f(b)):\n",
    "        print('f(a) y f(b) deben tener signo distinto. No se aplica el metodo.')\n",
    "        return\n",
    "\n",
    "    for nit in range(nitmax):\n",
    "        # Calculamos punto medio del intervalo\n",
    "        c = (a+b)/2.0\n",
    "\n",
    "        # Comprobamos cual de los dos subintervalos conserva el cambio de \n",
    "        # signo entre sus extremos\n",
    "        if np.sign(f(a)) != np.sign(f(c)):\n",
    "            b = c\n",
    "        else:\n",
    "            a = c\n",
    "\n",
    "        # Calculamos el residuo de la ecuacion\n",
    "        res = abs(f(c))\n",
    "\n",
    "        print('Iteracion %d, x* = %0.9f y f(x*) = %0.9e' % (nit+1, c, res))\n",
    "\n",
    "        # Criterio de convergencia\n",
    "        if res < tol:\n",
    "            break\n",
    "\n",
    "    return c, res, nit"
   ]
  },
  {
   "cell_type": "markdown",
   "id": "4a691a81-475a-4403-b700-d4273defef18",
   "metadata": {},
   "source": [
    "<ul>\n",
    "    <li>\n",
    "        <i>Ejemplo 1</i>:\n",
    "    </li>\n",
    "</ul>\n",
    "\n",
    "Se propone utilizar el método de bisección para calcular una raíz de la función $f(x) = x^3+x^2-9x+7$ en el intervalo $[0, 1.5]$.\n",
    "\n",
    "El siguiente código utiliza la función ``biseccion`` definida previamente para calcular la raíz de la función en el intervalo dado. Además, se representa gráficamente la función en el mismo para verificar que la raíz está bien calculada."
   ]
  },
  {
   "cell_type": "code",
   "execution_count": 3,
   "id": "f88b69b9-45b0-4086-b81f-ae8ac6b499d5",
   "metadata": {},
   "outputs": [
    {
     "name": "stdout",
     "output_type": "stream",
     "text": [
      "Iteracion 1, x* = 0.750000000 y f(x*) = 1.234375000e+00\n",
      "Iteracion 2, x* = 1.125000000 y f(x*) = 4.355468750e-01\n",
      "Iteracion 3, x* = 0.937500000 y f(x*) = 2.653808594e-01\n",
      "Iteracion 4, x* = 1.031250000 y f(x*) = 1.210632324e-01\n",
      "Iteracion 5, x* = 0.984375000 y f(x*) = 6.347274780e-02\n",
      "Iteracion 6, x* = 1.007812500 y f(x*) = 3.100538254e-02\n",
      "Iteracion 7, x* = 0.996093750 y f(x*) = 1.568597555e-02\n",
      "Iteracion 8, x* = 1.001953125 y f(x*) = 7.797233760e-03\n",
      "Iteracion 9, x* = 0.999023438 y f(x*) = 3.910063766e-03\n",
      "Iteracion 10, x* = 1.000488281 y f(x*) = 1.952171209e-03\n",
      "Iteracion 11, x* = 0.999755859 y f(x*) = 9.768009040e-04\n",
      "Iteracion 12, x* = 1.000122070 y f(x*) = 4.882216435e-04\n",
      "Iteracion 13, x* = 0.999938965 y f(x*) = 2.441555259e-04\n",
      "Iteracion 14, x* = 1.000030518 y f(x*) = 1.220665872e-04\n",
      "Iteracion 15, x* = 0.999984741 y f(x*) = 6.103608757e-05\n",
      "Iteracion 16, x* = 1.000007629 y f(x*) = 3.051734529e-05\n",
      "Iteracion 17, x* = 0.999996185 y f(x*) = 1.525884727e-05\n",
      "Iteracion 18, x* = 1.000001907 y f(x*) = 7.629379979e-06\n",
      "Iteracion 19, x* = 0.999999046 y f(x*) = 3.814700904e-06\n",
      "Iteracion 20, x* = 1.000000477 y f(x*) = 1.907347723e-06\n",
      "Iteracion 21, x* = 0.999999762 y f(x*) = 9.536745438e-07\n",
      "Iteracion 22, x* = 1.000000119 y f(x*) = 4.768371014e-07\n",
      "Iteracion 23, x* = 0.999999940 y f(x*) = 2.384185933e-07\n",
      "Iteracion 24, x* = 1.000000030 y f(x*) = 1.192092860e-07\n",
      "Iteracion 25, x* = 0.999999985 y f(x*) = 5.960464566e-08\n",
      "Iteracion 26, x* = 1.000000007 y f(x*) = 2.980232239e-08\n",
      "Iteracion 27, x* = 0.999999996 y f(x*) = 1.490116119e-08\n",
      "Iteracion 28, x* = 1.000000002 y f(x*) = 7.450580597e-09\n"
     ]
    },
    {
     "data": {
      "image/png": "[encoded data removed]",
      "text/plain": [
       "<Figure size 432x288 with 1 Axes>"
      ]
     },
     "metadata": {
      "needs_background": "light"
     },
     "output_type": "display_data"
    }
   ],
   "source": [
    "# Definimos la funcion\n",
    "def f(x):\n",
    "    return x**3+x**2-9*x+7\n",
    "\n",
    "a      = 0    # Punto inicial del intervalo\n",
    "b      = 1.5  # Punto final del intervalo\n",
    "tol    = 1e-8 # Tolerancia criterio de parada\n",
    "nitmax = 100  # Numero maximo de iteraciones\n",
    "\n",
    "x, res, nit = biseccion(f, a, b, tol, nitmax)\n",
    "\n",
    "# Representación de la funcion\n",
    "import matplotlib.pyplot as plt\n",
    "import numpy             as np\n",
    "\n",
    "# Definimos un vector de puntos donde evaluar la funcion\n",
    "x_vec = np.linspace(a, b, 100)\n",
    "\n",
    "# Representamos la funcion\n",
    "plt.plot(x_vec, f(x_vec))\n",
    "plt.ylabel('f(x)')\n",
    "plt.xlabel('x')\n",
    "plt.grid()"
   ]
  },
  {
   "cell_type": "markdown",
   "id": "81270b7c-60f3-4a69-8861-5b87468c3fe4",
   "metadata": {},
   "source": [
    "## Método de Newton-Raphson\n",
    "\n",
    "Dada una función $f: [a, b] \\subset \\mathbb R \\rightarrow \\mathbb R$ cualquiera, tal y como se ha comentado, en general no se dispone de técnicas analíticas para resolver de forma exacta la ecuación\n",
    "\n",
    "$$f(x) = 0.$$\n",
    "\n",
    "Sin embargo, sí se dispone de técnicas para calcularla cuando $f$ es una función simple, por ejemplo un polinomio de orden uno o dos.\n",
    "\n",
    "El método de Newton-Raphson propone sustituir la función $f$ por el polinomio de Taylor de orden uno en el entorno de una aproximación de la raíz $x_*$ para resolver la ecuación. Así, si se cuenta con una cierta aproximación de $x_*$, que denotamos $x_{n}$, el método de Newton-Raphson propone calcular una nueva aproximación $x_{n+1}$ resolviendo:\n",
    "\n",
    "$$P_n(x_{n+1}) = 0,$$\n",
    "\n",
    "donde\n",
    "\n",
    "$$P_n(x) = f(x_n) + f'(x_n)(x-x_n).$$\n",
    "\n",
    "De esta forma, el método genera una sucesión a partir de un iterante inicial $x_0$ y la siguiente fórmula de recurrencia\n",
    "\n",
    "$$x_{n+1} = x_n - \\frac{f(x_n)}{f'(x_n)}$$\n",
    "\n",
    "que se espera que converja a $x_*$.\n",
    "\n",
    "A continuación se muestra un ejemplo de implementación del algoritmo en una función (para Python 3.8.10) donde, como en el ejemplo anterior, deberán comentarse adecuadamente los argumentos de entrada."
   ]
  },
  {
   "cell_type": "code",
   "execution_count": 26,
   "id": "be354fb0-83c6-449e-abdc-c094eb68c81d",
   "metadata": {},
   "outputs": [],
   "source": [
    "def newton(f, df, x0, tol_x, tol_f, nitmax):\n",
    "\n",
    "    for nit in range(nitmax):\n",
    "\n",
    "        # Calcular valor de x (si es posible)\n",
    "        if df(x0) != 0.0:\n",
    "            x = x0 - f(x0)/df(x0)\n",
    "        else:\n",
    "            print(\"No es posible iterar: f'(xn)=0\")\n",
    "            break\n",
    "\n",
    "        # Calcular valor de la diferencia entre x y x0\n",
    "        dif = abs(x-x0)\n",
    "        # Calcular valor del residuo\n",
    "        res = abs(f(x))\n",
    "\n",
    "        print('Iteracion %d, x = %0.9f, |x-xn| = %0.6e y f(x) = %0.6e' % (nit+1, x, dif, res))\n",
    "\n",
    "        # Criterios de convergencia\n",
    "        if dif < tol_x:\n",
    "            break\n",
    "        else:\n",
    "            x0 = x\n",
    "\n",
    "        if res < tol_f:\n",
    "            break\n",
    "\n",
    "    return x, res, nit"
   ]
  },
  {
   "cell_type": "markdown",
   "id": "dcf3cfcf-48e4-4042-915d-dbb2847d51c0",
   "metadata": {},
   "source": [
    "<ul>\n",
    "    <li>\n",
    "        <i>Ejemplo 2</i>:\n",
    "    </li>\n",
    "</ul>\n",
    "\n",
    "Se propone utilizar el método de Newton-Raphson para calcular la única raíz de  $f(x) = x^3+x^2-9x+7$ en el intervalo $[0, 1.5]$, tomando como iterante inicial el punto medio del intervalo $x_0 = 0.75$. Se sugiere emplear la representación de esta función (en una figura anterior) para generar gráficamente los iterantes del método de Newton-Raphson (obsérvese que se tratará de la intersección de la recta tangente al grafo de la función en el punto correspondiente al iterante con el eje de abscisas) y comprobar la rápida convergencia de la sucesión. \n",
    "\n",
    "El siguiente código utiliza la función ``newton`` definida previamente para calcular la raíz de la función en el intervalo dado. Obsérvese que el método de Newton-Raphson converge a la raíz con una tolerancia de $10^{-8}$ en 4 iteraciones, cuando el método de bisección requería 28 iteraciones para detenerse con esa misma tolerancia."
   ]
  },
  {
   "cell_type": "code",
   "execution_count": 7,
   "id": "3a39c1d0-fd3c-416c-986c-129e9581768d",
   "metadata": {},
   "outputs": [
    {
     "name": "stdout",
     "output_type": "stream",
     "text": [
      "Iteracion 1, x = 0.962365591, |x-xn| = 2.123656e-01 y f(x) = 1.561497e-01\n",
      "Iteracion 2, x = 0.998706304, |x-xn| = 3.634071e-02 y f(x) = 5.181477e-03\n",
      "Iteracion 3, x = 0.999998332, |x-xn| = 1.292028e-03 y f(x) = 6.673023e-06\n",
      "Iteracion 4, x = 1.000000000, |x-xn| = 1.668250e-06 y f(x) = 1.113243e-11\n"
     ]
    }
   ],
   "source": [
    "# Definimos la funcion\n",
    "def f(x):\n",
    "    return x**3+x**2-9*x+7\n",
    "\n",
    "# Definimos la derivada de la funcion\n",
    "def df(x):\n",
    "    return 3*x**2+2*x-9\n",
    "\n",
    "x0     = 0.75 # Iterante inicial\n",
    "tol_x  = 1e-8 # Tolerancia\n",
    "tol_f  = 1e-8 # Tolerancia\n",
    "nitmax = 20   # Numero maximo de iteraciones\n",
    "\n",
    "x, res, nit = newton(f, df, x0, tol_x, tol_f, nitmax)"
   ]
  },
  {
   "cell_type": "markdown",
   "id": "060b2dbd-56ba-4133-9041-a79224665ddc",
   "metadata": {},
   "source": [
    "## Método de la secante\n",
    "\n",
    "Existen otros métodos numéricos para la resolución de ecuaciones no lineales que buscan propiedades de convergencia similares a las del método de Newton-Raphson pero evitando la evaluación de la derivada de la función $f$, tratando con aproximaciones numéricas de esta. Uno de estos métodos es el llamado método de la secante.\n",
    "\n",
    "La idea de este método es muy simple y se basa en las técnicas de derivación numérica ya estudiadas. En particular, si el método ya ha calculado al menos un iterante, de modo que se dispone de dos aproximaciones $x_{n}$ y $x_{n-1}$, es posible aproximar el valor de $f'(x_n)$ utilizando el esquema descentrado\n",
    "\n",
    "$$ f'(x_n) \\simeq \\frac{f(x_n) - f(x_{n-1})}{x_n - x_{n-1}} $$\n",
    "\n",
    "Así, dada $f: [a, b] \\subset \\mathbb R \\rightarrow \\mathbb R$ una función regular y $x_{0}$ y $x_{1}$ dos valores próximos a la raíz buscada, el *método de la secante* propone generar una sucesión a través de la fórmula de recurrencia (de tres términos)\n",
    "\n",
    "$$x_{n+1} = x_n - f(x_n)\\frac{x_n - x_{n-1}}{f(x_n) - f(x_{n-1})} \n",
    "          = \\frac{x_{n-1} f(x_n) - x_n f(x_{n-1})}{f(x_n) - f(x_{n-1})} .$$\n",
    "\n",
    "Nótese que a medida que $x_n$ se acerca a $x_*$ la aproximación de la derivada mejora, aunque debe prestarse atención a la pérdida de precisión debido a la división por un valor pequeño.\n",
    "\n",
    "Puesto que se trata de un método basado en el método de Newton-Raphson donde la derivada se sustituye por una aproximación, se espera que sus propiedades sean similares. En cierto modo, así es pero con algunos matices, como se va a ver.\n",
    "\n",
    "Por un lado, se había observado que el método de Newton-Raphson podría tener dificultades al arrancar si el iterante inicial $x_0$ no estaba muy cerca de la solución. Aunque el método de la secante puede presentar dificultades similares a las de Newton-Raphson en cuanto a convergencia global, es posible hacer que se comporte de forma mucho más robusta y evite esas dificultades en la mayor parte de los casos. Así, por ejemplo, pueden tomarse $x_0$ y $x_1$ rodeando a la raíz $x_{*}$ que se busca (en vez de tomar dos valores muy próximos entre sí, como sugeriría la aproximación de la derivada con un error reducido). De hecho, se puede asegurar la convergencia si se eligen $x_0$ y $x_1$ tales que $f(x_0)f(x_1)<0$, tal como se hacía en el método de bisección. \n",
    "\n",
    "Puede retomarse de nuevo el ejemplo con el que se ha ilustrado la aplicación del método de bisección y el método de Newton-Raphson para aplicar ahora el método de la secante y observar las diferencias entre las tres técnicas. Téngase en cuenta que, para la programación de la función que implemente el método de la secante (a diferencia de la función que implementa el método de Newton-Raphson), es necesario contar con dos pasos anteriores y no con uno. \n",
    "\n",
    "Por otro lado, para comparar el método de la secante con el método de Newton-Raphson considérense dos situaciones distintas:\n",
    " \n",
    "* un caso donde el método de Newton-Raphson converge rápidamente a la solución y donde, al arrancar el método de la secante con dos puntos próximos entre sí (y próximos al iterante inicial usado para el método de Newton-Raphson), se obtiene una convergencia similar pero ligeramente más lenta.  \n",
    "\n",
    "* un caso (anteriormente se sugirió un ejemplo) donde el método de Newton-Raphson arranca de un punto alejado de la raíz y no converge (o lo hace tras muchas iteraciones) para, en este caso, observar que el método de la secante arrancando de los puntos relativamente alejados de la raíz pero encerrando a ésta, sí es capaz de converger."
   ]
  },
  {
   "cell_type": "code",
   "execution_count": 11,
   "id": "8bfe347c-e915-459d-8594-8b35342cc4e9",
   "metadata": {},
   "outputs": [],
   "source": [
    "def secante(f, x0, x1, tol_x, tol_f, nitmax):\n",
    "\n",
    "    for nit in range(nitmax):\n",
    "\n",
    "        x  = x0 - f(x0)*(x1-x0)/(f(x1)-f(x0))\n",
    "        \n",
    "        # Calcular valor de la diferencia entre x y x0\n",
    "        dif = abs(x-x1)\n",
    "        # Calcular valor del residuo\n",
    "        res = abs(f(x))\n",
    "\n",
    "        print('Iteracion %d, x = %0.9f, |x-xn| = %0.6e y f(x) = %0.6e' % (nit+1, x, dif, res))\n",
    "\n",
    "        # Criterios de convergencia\n",
    "        if dif < tol_x:\n",
    "            break\n",
    "        else:\n",
    "            x0 = x1\n",
    "            x1 = x\n",
    "            \n",
    "        if res < tol_f:\n",
    "            break\n",
    "\n",
    "    return x, res, nit"
   ]
  },
  {
   "cell_type": "markdown",
   "id": "01eab144-d259-4ee4-ab6a-1583e9b1e0e3",
   "metadata": {},
   "source": [
    "<ul>\n",
    "    <li>\n",
    "        <i>Ejemplo 3</i>:\n",
    "    </li>\n",
    "</ul>\n",
    "\n",
    "Se propone utilizar el método de la secante para calcular la única raíz de  $f(x) = x^3+x^2-9x+7$ en el intervalo $[0, 1.5]$, tomando como iterante inicial los extremos del intervalo $x_0 = 0.0$ y $x_1 = 1.5$. Podemos ver como la convergencia de este método es más rápida que bisección pero más lenta que Newton."
   ]
  },
  {
   "cell_type": "code",
   "execution_count": 13,
   "id": "c73986f4-baa8-48d5-a1d0-66916db182bc",
   "metadata": {},
   "outputs": [
    {
     "name": "stdout",
     "output_type": "stream",
     "text": [
      "Iteracion 1, x = 1.333333333, |x-xn| = 1.666667e-01 y f(x) = 8.518519e-01\n",
      "Iteracion 2, x = -4.800000000, |x-xn| = 6.133333e+00 y f(x) = 3.735200e+01\n",
      "Iteracion 3, x = 1.476474981, |x-xn| = 6.276475e+00 y f(x) = 8.896129e-01\n",
      "Iteracion 4, x = 1.629609041, |x-xn| = 1.531341e-01 y f(x) = 6.832242e-01\n",
      "Iteracion 5, x = 2.136540304, |x-xn| = 5.069313e-01 y f(x) = 2.088830e+00\n",
      "Iteracion 6, x = 1.754551639, |x-xn| = 3.819887e-01 y f(x) = 3.112113e-01\n",
      "Iteracion 7, x = 1.804083766, |x-xn| = 4.953213e-02 y f(x) = 1.102513e-01\n",
      "Iteracion 8, x = 1.831258253, |x-xn| = 2.717449e-02 y f(x) = 1.331950e-02\n",
      "Iteracion 9, x = 1.828329160, |x-xn| = 2.929093e-03 y f(x) = 4.590307e-04\n",
      "Iteracion 10, x = 1.828426742, |x-xn| = 9.758254e-05 y f(x) = 1.792677e-06\n",
      "Iteracion 11, x = 1.828427125, |x-xn| = 3.825885e-07 y f(x) = 2.430678e-10\n"
     ]
    }
   ],
   "source": [
    "# Definimos la funcion\n",
    "def f(x):\n",
    "    return x**3+x**2-9*x+7\n",
    "\n",
    "x0     = 0.0  # Iterante inicial 1\n",
    "x1     = 1.5  # Iterante inicial 2 \n",
    "tol_x  = 1e-8 # Tolerancia\n",
    "tol_f  = 1e-8 # Tolerancia\n",
    "nitmax = 20   # Numero maximo de iteraciones\n",
    "\n",
    "x, res, nit = secante(f, x0, x1, tol_x, tol_f, nitmax)"
   ]
  },
  {
   "cell_type": "markdown",
   "id": "55fe01f9-4868-4dbc-9958-36fb81470a3e",
   "metadata": {},
   "source": [
    "## EJERCICIOS"
   ]
  },
  {
   "cell_type": "markdown",
   "id": "3502bb49-87c5-42d4-beee-01f8a0a29cf3",
   "metadata": {},
   "source": [
    "**Ejercicio 1.** Sea $p(x) = x^3 - x - 1$. La única raíz real de $p(x)$ se llama el [número plástico](https://en.wikipedia.org/wiki/Plastic_number) y se da por\n",
    "\n",
    "$$\n",
    "\\frac{\\sqrt[3]{108 + 12\\sqrt{69}} + \\sqrt[3]{108 - 12\\sqrt{69}}}{6}\n",
    "$$\n",
    "\n",
    "**Ejercicio 2.** Elija $x_0 = 1$ e implemente 2 iteraciones del método de Newton para aproximar el número plástico.\n",
    "\n",
    "**Ejercicio 3.** Use el valor exacto anterior para calcular el error absoluto después de 2 iteraciones del método de Newton.\n",
    "\n",
    "**Ejercicio 4.** Comenzando con el subintervalo $[1,2]$, ¿cuántas iteraciones del método de bisección se requieren para lograr la misma precisión?\n",
    "\n",
    "**Ejercicio 5.** Misma pregunta pero usando el método de la secante y empezando con $x_0=1$ y $x_1=2$.\n",
    "\n",
    "**Ejercicio 6.** Probad los tres métodos con la función $f(x)=signo(x)|x|^{1/3}$ en el intervalo $[-1,1]$ y buscar una explicación a los resultados obtenidos. \n",
    "\n"
   ]
  }
 ],
 "metadata": {
  "kernelspec": {
   "display_name": "Python 3 (ipykernel)",
   "language": "python",
   "name": "python3"
  },
  "language_info": {
   "codemirror_mode": {
    "name": "ipython",
    "version": 3
   },
   "file_extension": ".py",
   "mimetype": "text/x-python",
   "name": "python",
   "nbconvert_exporter": "python",
   "pygments_lexer": "ipython3",
   "version": "3.9.12"
  }
 },
 "nbformat": 4,
 "nbformat_minor": 5
}
