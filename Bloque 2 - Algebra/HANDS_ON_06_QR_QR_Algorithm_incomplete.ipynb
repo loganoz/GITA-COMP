{
  "metadata": {
    "kernelspec": {
      "name": "python",
      "display_name": "Python (Pyodide)",
      "language": "python"
    },
    "language_info": {
      "codemirror_mode": {
        "name": "python",
        "version": 3
      },
      "file_extension": ".py",
      "mimetype": "text/x-python",
      "name": "python",
      "nbconvert_exporter": "python",
      "pygments_lexer": "ipython3",
      "version": "3.8"
    }
  },
  "nbformat_minor": 5,
  "nbformat": 4,
  "cells": [
    {
      "id": "a35eeb9f-df70-4ab1-a243-2d2025888eb0",
      "cell_type": "markdown",
      "source": "# El algoritmo QR para calcular autovalores\n\nRealizamos dos experimentos numéricos para ilustrar el estudio de la tasa de convergencia en la teoría. Con este fin, construimos una matriz aleatoria de tamaño 4 × 4 con autovalores 1, 2, 3 y 4. Más tarde, cambiaremos estos a otra matriz con autovalores 1, 2, 2 y 5.\n",
      "metadata": {}
    },
    {
      "id": "fe55883a-6887-43dd-9498-5333a51799e2",
      "cell_type": "code",
      "source": "import numpy as np\nimport matplotlib.pyplot as plt\n\n# Crear una matriz de ejemplo\nD = np.diag([4, 3, 2, 1])\nnp.random.seed(0)\nS = np.random.rand(4, 4) * 2 - 1\nA = S @ D @ np.linalg.inv(S) #np.dot(S, np.dot(D, np.linalg.inv(S)))\n\n# Imprimir la matriz original A\nprint(\"Matriz original A\")\nprint(A)\n",
      "metadata": {
        "trusted": true
      },
      "outputs": [],
      "execution_count": null
    },
    {
      "id": "65a97e00-cf93-4dfb-922b-0787be0e2c52",
      "cell_type": "markdown",
      "source": "Comprobamos que la matriz A y la matriz D tienen efectivamente los mismos autovalores:",
      "metadata": {}
    },
    {
      "id": "f85baae9-434b-4893-ab79-b3b1ec072204",
      "cell_type": "code",
      "source": "eigenvaluesA, eigenvectorsA = np.linalg.eig(A)\neigenvaluesD, eigenvectorsD = np.linalg.eig(D)\nprint(\"Matriz A\")\nprint(eigenvaluesA)\nprint(\"Matriz D\")\nprint(eigenvaluesD)",
      "metadata": {
        "trusted": true
      },
      "outputs": [],
      "execution_count": null
    },
    {
      "id": "6f2570b4-3a5b-4ac6-a4a9-cba127e76008",
      "cell_type": "markdown",
      "source": "En el siguiente paso, vemos como realizar la descomposición QR de la matriz A",
      "metadata": {}
    },
    {
      "id": "bf00fb4e-2dda-4331-9f98-3d7823ff329d",
      "cell_type": "code",
      "source": "Q,R = np.linalg.qr(A)\n\nprint(\"Matriz A\")\nprint(A)\nprint(\"Matriz Q\")\nprint(Q)\nprint(\"Matriz R\")\nprint(R)\nprint(\"Matriz producto QR\")\nprint(Q @ R)\n",
      "metadata": {
        "trusted": true
      },
      "outputs": [],
      "execution_count": null
    },
    {
      "id": "56db188e-d4da-463e-9d2b-9784b2804209",
      "cell_type": "markdown",
      "source": "Ahora toca definir el algoritmo QR para el calculo de autovalores",
      "metadata": {}
    },
    {
      "id": "dbc33a7e-b569-4a14-9d63-7f27149c440d",
      "cell_type": "code",
      "source": "\ndef basic_qr_algorithm(A, max_iterations=20):\n    \"\"\"\n    Implementación del algoritmo QR básico para la descomposición de Schur.\n    \n    Args:\n    A (numpy.ndarray): Matriz cuadrada de entrada.\n    max_iterations (int): Número máximo de iteraciones del algoritmo QR.\n    \n    Returns:\n    T (numpy.ndarray): Matriz triangular superior (parte triangular de la descomposición de Schur).\n    U (numpy.ndarray): Matriz ortogonal (parte ortogonal de la descomposición de Schur).\n    \"\"\"\n###################################\n# COMPLETAD EL ALGORITMO VOSOTROS #\n###################################",
      "metadata": {
        "trusted": true
      },
      "outputs": [],
      "execution_count": null
    },
    {
      "id": "88672baa-05da-44b5-8156-c57d866f04c3",
      "cell_type": "markdown",
      "source": "Por último, aplicamos el algoritmo. Podemos observar como podemos leer los autovalores en  ",
      "metadata": {}
    },
    {
      "id": "20d11aa5-e24a-481f-8957-395b45b556e5",
      "cell_type": "code",
      "source": "# Aplicar el algoritmo QR básico\nT, U = basic_qr_algorithm(A)\n\n# Imprimir la matriz triangular superior obtenida\nprint(\"Matriz triangular superior T después de iteraciones:\")\nprint(T)\n\n# Imprimir la matriz Q\nprint(\"Matriz triangular superior U después de iteraciones:\")\nprint(U)",
      "metadata": {
        "trusted": true
      },
      "outputs": [],
      "execution_count": null
    },
    {
      "id": "e8a7b7b2-314d-42c9-98a9-a1dd4ee42229",
      "cell_type": "markdown",
      "source": "Comprobamos que efectivamente esto nos da la descomposición de Schur.",
      "metadata": {}
    },
    {
      "id": "d69c7432-11ae-4ca1-91cd-3c7ab66de84a",
      "cell_type": "code",
      "source": "U @ T @ U.conj().T\nprint(U @ T @ U.transpose()-A)",
      "metadata": {
        "trusted": true
      },
      "outputs": [],
      "execution_count": null
    },
    {
      "id": "6f6254d4-7c9a-4c1f-982f-85916b57b817",
      "cell_type": "markdown",
      "source": "## EJERCICIO 1:\n\nDividir elemento a elemento A(20)/A(19) y observar la tasa de convergencia de cada uno de los elementos. Comprobar que se verifica lo estudiado en la teoría.",
      "metadata": {}
    },
    {
      "id": "41b42e89-e7ca-4da4-a6d8-90de9861fd82",
      "cell_type": "code",
      "source": "",
      "metadata": {
        "trusted": true
      },
      "outputs": [],
      "execution_count": null
    },
    {
      "id": "32b345a8-94a5-4126-a53d-4af38b9e6351",
      "cell_type": "markdown",
      "source": "## EJERCICIO 2:\n\nUtilizar ahora el mismo script pero con la matriz D = np.diag([5, 2, 2, 1]) y dividir elemento a elemento A(20)/A(19). Observar la tasa de convergencia de cada uno de los elementos. Comprobar que se verifica lo estudiado en la teoría.",
      "metadata": {}
    },
    {
      "id": "f136e046-10df-47ef-8d29-67616fc7023c",
      "cell_type": "code",
      "source": "",
      "metadata": {
        "trusted": true
      },
      "outputs": [],
      "execution_count": null
    }
  ]
}