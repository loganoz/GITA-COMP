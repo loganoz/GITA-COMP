{
  "metadata": {
    "kernelspec": {
      "name": "python",
      "display_name": "Python (Pyodide)",
      "language": "python"
    },
    "language_info": {
      "codemirror_mode": {
        "name": "python",
        "version": 3
      },
      "file_extension": ".py",
      "mimetype": "text/x-python",
      "name": "python",
      "nbconvert_exporter": "python",
      "pygments_lexer": "ipython3",
      "version": "3.8"
    }
  },
  "nbformat_minor": 5,
  "nbformat": 4,
  "cells": [
    {
      "id": "a35eeb9f-df70-4ab1-a243-2d2025888eb0",
      "cell_type": "markdown",
      "source": "# The QR Algorithm\n\nWe conduct two numerical experiments to illustrate the convergence rate study in the theory. To that end, we construct a random 4 × 4 matrix with eigenvalues 1, 2, 3, and 4.\n",
      "metadata": {}
    },
    {
      "id": "fe55883a-6887-43dd-9498-5333a51799e2",
      "cell_type": "code",
      "source": "import numpy as np\nimport matplotlib.pyplot as plt\n\n# Crear una matriz de ejemplo\nD = np.diag([4, 3, 2, 1])\nnp.random.seed(0)\nS = np.random.rand(4, 4) * 2 - 1\nA = S @ D @ np.linalg.inv(S) #np.dot(S, np.dot(D, np.linalg.inv(S)))\n\n# Imprimir la matriz original A\nprint(\"Matriz original A\")\nprint(A)\n",
      "metadata": {
        "trusted": true
      },
      "outputs": [
        {
          "name": "stdout",
          "text": "Matriz original A\n[[ 2.60165071  0.04030111  0.12143969  0.22085621]\n [ 1.0856164   0.91638494 -0.6213239  -0.00480855]\n [-1.82537694  0.95116009  4.21246033  0.92894433]\n [ 0.8191164   1.21687947  0.36809039  2.26950402]]\n",
          "output_type": "stream"
        }
      ],
      "execution_count": 63
    },
    {
      "id": "65a97e00-cf93-4dfb-922b-0787be0e2c52",
      "cell_type": "markdown",
      "source": "Comprobamos que la matriz A y la matriz D tienen efectivamente los mismos autovalores:",
      "metadata": {}
    },
    {
      "id": "f85baae9-434b-4893-ab79-b3b1ec072204",
      "cell_type": "code",
      "source": "eigenvaluesA, eigenvectorsA = np.linalg.eig(A)\neigenvaluesD, eigenvectorsD = np.linalg.eig(D)\nprint(\"Matriz A\")\nprint(eigenvaluesA)\nprint(\"Matriz D\")\nprint(eigenvaluesD)",
      "metadata": {
        "trusted": true
      },
      "outputs": [
        {
          "name": "stdout",
          "text": "Matriz A\n[1. 2. 3. 4.]\nMatriz D\n[4. 3. 2. 1.]\n",
          "output_type": "stream"
        }
      ],
      "execution_count": 64
    },
    {
      "id": "6f2570b4-3a5b-4ac6-a4a9-cba127e76008",
      "cell_type": "markdown",
      "source": "En el siguiente paso, vemos como realizar la descomposición QR de la matriz A",
      "metadata": {}
    },
    {
      "id": "bf00fb4e-2dda-4331-9f98-3d7823ff329d",
      "cell_type": "code",
      "source": "Q,R = np.linalg.qr(A)\n\nprint(\"Matriz A\")\nprint(A)\nprint(\"Matriz Q\")\nprint(Q)\nprint(\"Matriz R\")\nprint(R)\nprint(\"Matriz producto QR\")\nprint(Q @ R)\n",
      "metadata": {
        "trusted": true
      },
      "outputs": [
        {
          "name": "stdout",
          "text": "Matriz A\n[[ 2.60165071  0.04030111  0.12143969  0.22085621]\n [ 1.0856164   0.91638494 -0.6213239  -0.00480855]\n [-1.82537694  0.95116009  4.21246033  0.92894433]\n [ 0.8191164   1.21687947  0.36809039  2.26950402]]\nMatriz Q\n[[-0.75259821  0.02125927 -0.65761852 -0.02611229]\n [-0.31404406 -0.49274815  0.37210841 -0.72118716]\n [ 0.52803992 -0.56107146 -0.61591565 -0.16437935]\n [-0.23695169 -0.66479029  0.22298231  0.67244826]]\nMatriz R\n[[-3.45689196 -0.10420695  2.24085535 -0.21194902]\n [ 0.         -1.79332864 -2.29945626 -2.02288373]\n [ 0.          0.         -2.82350346 -0.21312054]\n [ 0.          0.          0.          1.37112556]]\nMatriz producto QR\n[[ 2.60165071  0.04030111  0.12143969  0.22085621]\n [ 1.0856164   0.91638494 -0.6213239  -0.00480855]\n [-1.82537694  0.95116009  4.21246033  0.92894433]\n [ 0.8191164   1.21687947  0.36809039  2.26950402]]\n",
          "output_type": "stream"
        }
      ],
      "execution_count": 65
    },
    {
      "id": "56db188e-d4da-463e-9d2b-9784b2804209",
      "cell_type": "markdown",
      "source": "Ahora toca definir el algoritmo QR para el calculo de autovalores",
      "metadata": {}
    },
    {
      "id": "dbc33a7e-b569-4a14-9d63-7f27149c440d",
      "cell_type": "code",
      "source": "\ndef basic_qr_algorithm(A, max_iterations=20):\n    \"\"\"\n    Implementación del algoritmo QR básico para la descomposición de Schur.\n    \n    Args:\n    A (numpy.ndarray): Matriz cuadrada de entrada.\n    max_iterations (int): Número máximo de iteraciones del algoritmo QR.\n    \n    Returns:\n    T (numpy.ndarray): Matriz triangular superior (parte triangular de la descomposición de Schur).\n    U (numpy.ndarray): Matriz ortogonal (parte ortogonal de la descomposición de Schur).\n    \"\"\"\n    n = A.shape[0]\n    Uk = np.eye(n)\n    Ak = A.copy()\n\n    for _ in range(max_iterations):\n        Qk, Rk = np.linalg.qr(Ak)\n        Ak = Rk @ Qk #np.dot(Rk, Qk)\n        Uk = Uk @ Qk #np.dot(Uk, Qk)\n\n    return Ak, Uk\n",
      "metadata": {
        "trusted": true
      },
      "outputs": [],
      "execution_count": 66
    },
    {
      "id": "88672baa-05da-44b5-8156-c57d866f04c3",
      "cell_type": "markdown",
      "source": "Por último, aplicamos el algoritmo ",
      "metadata": {}
    },
    {
      "id": "20d11aa5-e24a-481f-8957-395b45b556e5",
      "cell_type": "code",
      "source": "# Aplicar el algoritmo QR básico\nT, U = basic_qr_algorithm(A)\n\n# Imprimir la matriz triangular superior obtenida\nprint(\"Matriz triangular superior T después de iteraciones:\")\nprint(T)\n\n# Imprimir la matriz Q\nprint(\"Matriz triangular superior U después de iteraciones:\")\nprint(U)",
      "metadata": {
        "trusted": true
      },
      "outputs": [
        {
          "name": "stdout",
          "text": "Matriz triangular superior T después de iteraciones:\n[[ 3.99919990e+00 -1.12805885e-01  1.54041354e+00  2.16273273e+00]\n [-7.09936420e-03  3.00087477e+00  1.27345338e+00 -4.88225607e-02]\n [-2.48643314e-06 -5.67772208e-05  1.99992651e+00  9.13672037e-01]\n [ 9.10644610e-13  3.68428516e-10 -1.29531075e-06  9.99998816e-01]]\nMatriz triangular superior U después de iteraciones:\n[[-0.09918471  0.43408535  0.82422166  0.34984419]\n [ 0.16186078  0.26839913  0.26515728 -0.91184133]\n [-0.97228006 -0.11917527  0.03018344 -0.19889117]\n [-0.13650994  0.85166253 -0.49943892  0.08122029]]\n",
          "output_type": "stream"
        }
      ],
      "execution_count": 67
    },
    {
      "id": "e8a7b7b2-314d-42c9-98a9-a1dd4ee42229",
      "cell_type": "markdown",
      "source": "Comprobamos que efectivamente esto nos da la descomposición de Schur",
      "metadata": {}
    },
    {
      "id": "d69c7432-11ae-4ca1-91cd-3c7ab66de84a",
      "cell_type": "code",
      "source": "U @ T @ U.conj().T\nprint(U @ T @ U.transpose()-A)",
      "metadata": {
        "trusted": true
      },
      "outputs": [
        {
          "name": "stdout",
          "text": "[[ 5.77315973e-15  1.22124533e-15 -2.31759056e-15  3.05311332e-15]\n [ 2.66453526e-15 -2.22044605e-16 -1.22124533e-15  1.35655376e-15]\n [-2.88657986e-15  2.66453526e-15  8.88178420e-16 -1.77635684e-15]\n [ 7.43849426e-15  3.55271368e-15 -1.72084569e-15  4.44089210e-15]]\n",
          "output_type": "stream"
        }
      ],
      "execution_count": 68
    },
    {
      "id": "6f6254d4-7c9a-4c1f-982f-85916b57b817",
      "cell_type": "markdown",
      "source": "## EJERCICIO 1:\n\nDividir elemento a elemento A(20)/A(19) y observar la tasa de convergencia de cada uno de los elementos. Comprobar que se verifica lo estudiado en la teoría.",
      "metadata": {}
    },
    {
      "id": "41b42e89-e7ca-4da4-a6d8-90de9861fd82",
      "cell_type": "code",
      "source": "T20, U20 = basic_qr_algorithm(A,20)\nT19, U19 = basic_qr_algorithm(A,19)\nprint(T20/T19)",
      "metadata": {
        "trusted": true
      },
      "outputs": [
        {
          "name": "stdout",
          "text": "[[ 1.00007181  0.9798758   0.99804907 -1.00005656]\n [ 0.75059909  0.99989163  1.00289455 -0.90557322]\n [ 0.5001163   0.66762515  1.00001844 -1.00000284]\n [-0.25006698 -0.33326437 -0.50010833  1.00000118]]\n",
          "output_type": "stream"
        }
      ],
      "execution_count": 69
    },
    {
      "id": "32b345a8-94a5-4126-a53d-4af38b9e6351",
      "cell_type": "markdown",
      "source": "## EJERCICIO 2:\n\nUtilizar ahora el mismo script pero con la matriz D = np.diag([5, 2, 2, 1]) y dividir elemento a elemento A(20)/A(19). Observar la tasa de convergencia de cada uno de los elementos. Comprobar que se verifica lo estudiado en la teoría.",
      "metadata": {}
    },
    {
      "id": "f136e046-10df-47ef-8d29-67616fc7023c",
      "cell_type": "code",
      "source": "T20, U20 = basic_qr_algorithm(A,20)\nT19, U19 = basic_qr_algorithm(A,19)\nprint(T20/T19)",
      "metadata": {
        "trusted": true
      },
      "outputs": [
        {
          "name": "stdout",
          "text": "[[ 1.00007181  0.9798758   0.99804907 -1.00005656]\n [ 0.75059909  0.99989163  1.00289455 -0.90557322]\n [ 0.5001163   0.66762515  1.00001844 -1.00000284]\n [-0.25006698 -0.33326437 -0.50010833  1.00000118]]\n",
          "output_type": "stream"
        }
      ],
      "execution_count": 70
    },
    {
      "id": "c0324325-138c-45d7-b504-894b18b58f95",
      "cell_type": "code",
      "source": "",
      "metadata": {
        "trusted": true
      },
      "outputs": [],
      "execution_count": null
    }
  ]
}