{
  "metadata": {
    "kernelspec": {
      "name": "python",
      "display_name": "Python (Pyodide)",
      "language": "python"
    },
    "language_info": {
      "codemirror_mode": {
        "name": "python",
        "version": 3
      },
      "file_extension": ".py",
      "mimetype": "text/x-python",
      "name": "python",
      "nbconvert_exporter": "python",
      "pygments_lexer": "ipython3",
      "version": "3.8"
    }
  },
  "nbformat_minor": 5,
  "nbformat": 4,
  "cells": [
    {
      "id": "747f8463",
      "cell_type": "markdown",
      "source": "# Descomposición SVD (Singular Value Decomposition)",
      "metadata": {}
    },
    {
      "id": "63a7daf0",
      "cell_type": "markdown",
      "source": "# Introduction",
      "metadata": {}
    },
    {
      "id": "07ffd934",
      "cell_type": "markdown",
      "source": "La descomposición en valores singulares de una matriz tiene muchas aplicaciones. Aquí veremos la base en python y luego en otro notebook veremos cómo se puede utilizar la descomposición en valores singulares en la compresión de imágenes.\n\nCualquier matriz $A$ puede descomponerse en tres matrices $U$, $\\Sigma$ y $V$ de modo que $A = U \\Sigma V$, esto se llama descomposición en valores singulares. Las columnas de $U$ y $V$ son ortonormales y $\\Sigma$ es diagonal. La mayoría de los paquetes de computación científica tienen una función para calcular la descomposición en valores singulares, no entraré en detalles sobre cómo encontrar $U$, $\\Sigma$ y $V$ aquí. En la teoría, escribimos la descomposición como $A = U \\Sigma V^T$, de modo que su $V^T$ es nuestro $V$. El uso en este cuaderno es coherente con cómo la función de descomposición en valores singulares de numpy devuelve $V$.",
      "metadata": {}
    },
    {
      "id": "5ee86dda",
      "cell_type": "markdown",
      "source": "## Ejemplo con una matriz pequeña $A$:",
      "metadata": {}
    },
    {
      "id": "29d4d13e",
      "cell_type": "markdown",
      "source": "If $A = \\begin{bmatrix} 1 & 0 \\\\ 1 & 2 \\end{bmatrix}$\n                     \n$A$ puede ser escrita como $U \\Sigma V$, donde $U$, $\\Sigma$ y $V$ son, redondeadas a 2 lugares decimales:\n\n$U = \\begin{bmatrix} -0.23 & -0.97 \\\\ -0.97 & 0.23 \\end{bmatrix}$\n                     \n$S = \\begin{bmatrix} 2.29 & 0 \\\\ 0 & 0.87 \\end{bmatrix}$\n                     \n$V = \\begin{bmatrix} -0.53 & -0.85 \\\\ -0.85 & 0.53 \\end{bmatrix}$",
      "metadata": {}
    },
    {
      "id": "1c2993b7-df5b-4ee4-9201-9250e5664aa7",
      "cell_type": "markdown",
      "source": "Veamos como hacer esto con python. Primero creamos nuestra matriz",
      "metadata": {}
    },
    {
      "id": "7e5b8e41-8d90-494a-840d-f3f843c2d634",
      "cell_type": "code",
      "source": "import numpy as np\n\n# Create a 2x2 matrix\nA = np.matrix([[1, 0], [1, 2]])\n\n# Print the matrix\nprint(A)\n",
      "metadata": {
        "trusted": true
      },
      "outputs": [
        {
          "name": "stdout",
          "text": "[[1 0]\n [1 2]]\n",
          "output_type": "stream"
        }
      ],
      "execution_count": 22
    },
    {
      "id": "3cc11389-74dd-43a3-ae76-2f68fccdc2b4",
      "cell_type": "markdown",
      "source": "En siguiente lugar, descomponemos A=USV usando la función de python",
      "metadata": {}
    },
    {
      "id": "fb84af94-3c58-450d-a8a2-c170f9f13ce3",
      "cell_type": "code",
      "source": "U, sigma, V = np.linalg.svd(A)\nprint(U)\nprint(sigma)\nprint(V)",
      "metadata": {
        "trusted": true
      },
      "outputs": [
        {
          "name": "stdout",
          "text": "[[-0.22975292 -0.97324899]\n [-0.97324899  0.22975292]]\n[2.28824561 0.87403205]\n[[-0.52573111 -0.85065081]\n [-0.85065081  0.52573111]]\n",
          "output_type": "stream"
        }
      ],
      "execution_count": 23
    },
    {
      "id": "f0e0b365-8621-440d-8b1c-9aef00a2ed88",
      "cell_type": "markdown",
      "source": "# Ejercicio 1: \nComprobar que los términos de la diagonal de S son los autovalores de $A^TA$ y que las columnas de $V$ están formadas por autovectores de $A^TA$. Comprobar también que las columnas de $U$ están formadas por autovectores de $AA^T$",
      "metadata": {}
    },
    {
      "id": "82d649d7-de97-4526-8c15-539c6305b7e8",
      "cell_type": "code",
      "source": "ATA=np.matrix(A.T * A) \nprint(ATA)",
      "metadata": {
        "trusted": true
      },
      "outputs": [
        {
          "name": "stdout",
          "text": "[[2 2]\n [2 4]]\n",
          "output_type": "stream"
        }
      ],
      "execution_count": 24
    },
    {
      "id": "50fe0ba3-bafb-46a3-966c-f3e9c9a8692f",
      "cell_type": "code",
      "source": "eigenvalues, eigenvectors = np.linalg.eig(ATA)\nprint(eigenvalues)\nprint(eigenvalues**0.5)\nprint(eigenvectors)",
      "metadata": {
        "trusted": true
      },
      "outputs": [
        {
          "name": "stdout",
          "text": "[0.76393202 5.23606798]\n[0.87403205 2.28824561]\n[[-0.85065081 -0.52573111]\n [ 0.52573111 -0.85065081]]\n",
          "output_type": "stream"
        }
      ],
      "execution_count": 25
    },
    {
      "id": "0ae36e1f-fd40-485c-b9eb-8cd11a0616e9",
      "cell_type": "code",
      "source": "AAT=np.matrix(A * A.T) \nprint(AAT)",
      "metadata": {
        "trusted": true
      },
      "outputs": [
        {
          "name": "stdout",
          "text": "[[1 1]\n [1 5]]\n",
          "output_type": "stream"
        }
      ],
      "execution_count": 26
    },
    {
      "id": "b15f904a-ae50-460c-9987-649f4d72676d",
      "cell_type": "code",
      "source": "eigenvalues, eigenvectors = np.linalg.eig(AAT)\nprint(eigenvalues)\nprint(eigenvalues**0.5)\nprint(eigenvectors)",
      "metadata": {
        "trusted": true
      },
      "outputs": [
        {
          "name": "stdout",
          "text": "[0.76393202 5.23606798]\n[0.87403205 2.28824561]\n[[-0.97324899 -0.22975292]\n [ 0.22975292 -0.97324899]]\n",
          "output_type": "stream"
        }
      ],
      "execution_count": 27
    },
    {
      "id": "dc1803aa",
      "cell_type": "markdown",
      "source": "# Aplicación de la descomposición SVD\n\nPodemos reconstruir la matriz completa utilizando la descomposición SVD",
      "metadata": {}
    },
    {
      "id": "ebc2d595-ebee-4abc-8a29-3903f3df6d36",
      "cell_type": "code",
      "source": "n_of_modes = 2 #Number of modes to be used in the reconstruction\n\nmatrix_approx = np.matrix(U[:, :n_of_modes]) * np.diag(sigma[:n_of_modes]) * np.matrix(V[:n_of_modes, :])\nprint(matrix_approx)",
      "metadata": {
        "trusted": true
      },
      "outputs": [
        {
          "name": "stdout",
          "text": "[[ 1.00000000e+00 -3.88578059e-16]\n [ 1.00000000e+00  2.00000000e+00]]\n",
          "output_type": "stream"
        }
      ],
      "execution_count": 28
    },
    {
      "id": "0cdc481f-c74e-42ca-8feb-f8c577f1dac5",
      "cell_type": "markdown",
      "source": "Si no utilizamos todos los modos, tenemos una representación aproximada de la matriz, lo que permite comprimir la información. El tamaño de los valores singulares nos da una idea de su importancia a la hora de recomponer la matriz",
      "metadata": {}
    },
    {
      "id": "6d8c67ea-d154-4bea-bac2-645162e4c530",
      "cell_type": "code",
      "source": "n_of_modes = 1 #Number of modes to be used in the reconstruction\n\nmatrix_approx = np.matrix(U[:, :n_of_modes]) * np.diag(sigma[:n_of_modes]) * np.matrix(V[:n_of_modes, :])\nprint(matrix_approx)",
      "metadata": {
        "trusted": true
      },
      "outputs": [
        {
          "name": "stdout",
          "text": "[[0.2763932  0.4472136 ]\n [1.17082039 1.89442719]]\n",
          "output_type": "stream"
        }
      ],
      "execution_count": 29
    },
    {
      "id": "7662a923-bced-4131-a5c5-2c0cdd764ea2",
      "cell_type": "markdown",
      "source": "En esta idea se basa la aplicación de compresión de imágenes, que veremos en la siguiente sección.\nOtras aplicaciones de la descomposición SVD incluyen Machine Learning (https://jonathan-hui.medium.com/machine-learning-singular-value-decomposition-svd-principal-component-analysis-pca-1d45e885e491) o mecánica de fluidos computacional (https://en.wikipedia.org/wiki/Proper_orthogonal_decomposition). ",
      "metadata": {}
    },
    {
      "id": "65a1a33f-9498-42d2-a2c7-1a018f8e9b17",
      "cell_type": "code",
      "source": "",
      "metadata": {
        "trusted": true
      },
      "outputs": [],
      "execution_count": null
    }
  ]
}