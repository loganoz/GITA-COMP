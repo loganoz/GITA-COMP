{
  "cells": [
    {
      "cell_type": "markdown",
      "id": "747f8463",
      "metadata": {},
      "source": [
        "# Descomposición SVD (Singular Value Decomposition)"
      ]
    },
    {
      "cell_type": "markdown",
      "id": "63a7daf0",
      "metadata": {},
      "source": [
        "# Introduction"
      ]
    },
    {
      "cell_type": "markdown",
      "id": "07ffd934",
      "metadata": {},
      "source": [
        "La descomposición en valores singulares de una matriz tiene muchas aplicaciones. Aquí veremos la base en python y luego en otro notebook veremos cómo se puede utilizar la descomposición en valores singulares en la compresión de imágenes.\n",
        "\n",
        "Cualquier matriz $A$ puede descomponerse en tres matrices $U$, $\\Sigma$ y $V$ de modo que $A = U \\Sigma V$, esto se llama descomposición en valores singulares. Las columnas de $U$ y $V$ son ortonormales y $\\Sigma$ es diagonal. La mayoría de los paquetes de computación científica tienen una función para calcular la descomposición en valores singulares, no entraré en detalles sobre cómo encontrar $U$, $\\Sigma$ y $V$ aquí. En la teoría, escribimos la descomposición como $A = U \\Sigma V^T$, de modo que su $V^T$ es nuestro $V$. El uso en este cuaderno es coherente con cómo la función de descomposición en valores singulares de numpy devuelve $V$."
      ]
    },
    {
      "cell_type": "markdown",
      "id": "5ee86dda",
      "metadata": {},
      "source": [
        "## Ejemplo con una matriz pequeña $A$:"
      ]
    },
    {
      "cell_type": "markdown",
      "id": "29d4d13e",
      "metadata": {},
      "source": [
        "If $A = \\begin{bmatrix} 1 & 0 \\\\ 1 & 2 \\end{bmatrix}$\n",
        "                     \n",
        "$A$ puede ser escrita como $U \\Sigma V$, donde $U$, $\\Sigma$ y $V$ son, redondeadas a 2 lugares decimales:\n",
        "\n",
        "$U = \\begin{bmatrix} -0.23 & -0.97 \\\\ -0.97 & 0.23 \\end{bmatrix}$\n",
        "                     \n",
        "$S = \\begin{bmatrix} 2.29 & 0 \\\\ 0 & 0.87 \\end{bmatrix}$\n",
        "                     \n",
        "$V = \\begin{bmatrix} -0.53 & -0.85 \\\\ -0.85 & 0.53 \\end{bmatrix}$"
      ]
    },
    {
      "cell_type": "markdown",
      "id": "1c2993b7-df5b-4ee4-9201-9250e5664aa7",
      "metadata": {},
      "source": [
        "Veamos como hacer esto con python. Primero creamos nuestra matriz"
      ]
    },
    {
      "cell_type": "code",
      "execution_count": 22,
      "id": "7e5b8e41-8d90-494a-840d-f3f843c2d634",
      "metadata": {
        "trusted": true
      },
      "outputs": [
        {
          "name": "stdout",
          "output_type": "stream",
          "text": [
            "[[1 0]\n",
            " [1 2]]\n"
          ]
        }
      ],
      "source": [
        "import numpy as np\n",
        "\n",
        "# Create a 2x2 matrix\n",
        "A = np.matrix([[1, 0], [1, 2]])\n",
        "\n",
        "# Print the matrix\n",
        "print(A)\n"
      ]
    },
    {
      "cell_type": "markdown",
      "id": "3cc11389-74dd-43a3-ae76-2f68fccdc2b4",
      "metadata": {},
      "source": [
        "En siguiente lugar, descomponemos A=USV usando la función de python"
      ]
    },
    {
      "cell_type": "code",
      "execution_count": 23,
      "id": "fb84af94-3c58-450d-a8a2-c170f9f13ce3",
      "metadata": {
        "trusted": true
      },
      "outputs": [
        {
          "name": "stdout",
          "output_type": "stream",
          "text": [
            "[[-0.22975292 -0.97324899]\n",
            " [-0.97324899  0.22975292]]\n",
            "[2.28824561 0.87403205]\n",
            "[[-0.52573111 -0.85065081]\n",
            " [-0.85065081  0.52573111]]\n"
          ]
        }
      ],
      "source": [
        "U, sigma, V = np.linalg.svd(A)\n",
        "print(U)\n",
        "print(sigma)\n",
        "print(V)"
      ]
    },
    {
      "cell_type": "markdown",
      "id": "f0e0b365-8621-440d-8b1c-9aef00a2ed88",
      "metadata": {},
      "source": [
        "# Ejercicio 1: \n",
        "Comprobar que los términos de la diagonal de S son los autovalores de $A^TA$ y que las columnas de $V$ están formadas por autovectores de $A^TA$. Comprobar también que las columnas de $U$ están formadas por autovectores de $AA^T$"
      ]
    },
    {
      "cell_type": "markdown",
      "id": "dc1803aa",
      "metadata": {},
      "source": [
        "# Aplicación de la descomposición SVD\n",
        "\n",
        "Podemos reconstruir la matriz completa utilizando la descomposición SVD"
      ]
    },
    {
      "cell_type": "code",
      "execution_count": 28,
      "id": "ebc2d595-ebee-4abc-8a29-3903f3df6d36",
      "metadata": {
        "trusted": true
      },
      "outputs": [
        {
          "name": "stdout",
          "output_type": "stream",
          "text": [
            "[[ 1.00000000e+00 -3.88578059e-16]\n",
            " [ 1.00000000e+00  2.00000000e+00]]\n"
          ]
        }
      ],
      "source": [
        "n_of_modes = 2 #Number of modes to be used in the reconstruction\n",
        "\n",
        "matrix_approx = np.matrix(U[:, :n_of_modes]) * np.diag(sigma[:n_of_modes]) * np.matrix(V[:n_of_modes, :])\n",
        "print(matrix_approx)"
      ]
    },
    {
      "cell_type": "markdown",
      "id": "0cdc481f-c74e-42ca-8feb-f8c577f1dac5",
      "metadata": {},
      "source": [
        "Si no utilizamos todos los modos, tenemos una representación aproximada de la matriz, lo que permite comprimir la información. El tamaño de los valores singulares nos da una idea de su importancia a la hora de recomponer la matriz"
      ]
    },
    {
      "cell_type": "code",
      "execution_count": 29,
      "id": "6d8c67ea-d154-4bea-bac2-645162e4c530",
      "metadata": {
        "trusted": true
      },
      "outputs": [
        {
          "name": "stdout",
          "output_type": "stream",
          "text": [
            "[[0.2763932  0.4472136 ]\n",
            " [1.17082039 1.89442719]]\n"
          ]
        }
      ],
      "source": [
        "n_of_modes = 1 #Number of modes to be used in the reconstruction\n",
        "\n",
        "matrix_approx = np.matrix(U[:, :n_of_modes]) * np.diag(sigma[:n_of_modes]) * np.matrix(V[:n_of_modes, :])\n",
        "print(matrix_approx)"
      ]
    },
    {
      "cell_type": "markdown",
      "id": "7662a923-bced-4131-a5c5-2c0cdd764ea2",
      "metadata": {},
      "source": [
        "En esta idea se basa la aplicación de compresión de imágenes, que veremos en la siguiente sección.\n",
        "Otras aplicaciones de la descomposición SVD incluyen Machine Learning (https://jonathan-hui.medium.com/machine-learning-singular-value-decomposition-svd-principal-component-analysis-pca-1d45e885e491) o mecánica de fluidos computacional (https://en.wikipedia.org/wiki/Proper_orthogonal_decomposition). "
      ]
    },
    {
      "cell_type": "code",
      "execution_count": null,
      "id": "65a1a33f-9498-42d2-a2c7-1a018f8e9b17",
      "metadata": {
        "trusted": true
      },
      "outputs": [],
      "source": []
    }
  ],
  "metadata": {
    "kernelspec": {
      "display_name": "Python (Pyodide)",
      "language": "python",
      "name": "python"
    },
    "language_info": {
      "codemirror_mode": {
        "name": "python",
        "version": 3
      },
      "file_extension": ".py",
      "mimetype": "text/x-python",
      "name": "python",
      "nbconvert_exporter": "python",
      "pygments_lexer": "ipython3",
      "version": "3.8"
    }
  },
  "nbformat": 4,
  "nbformat_minor": 5
}
